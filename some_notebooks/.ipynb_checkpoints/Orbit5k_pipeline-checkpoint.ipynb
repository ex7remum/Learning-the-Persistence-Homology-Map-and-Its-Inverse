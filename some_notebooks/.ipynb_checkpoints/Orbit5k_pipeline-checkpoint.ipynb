{
 "cells": [
  {
   "cell_type": "code",
   "execution_count": 1,
   "metadata": {},
   "outputs": [],
   "source": [
    "import numpy as np\n",
    "import matplotlib.pyplot as plt\n",
    "from tqdm.notebook import tqdm\n",
    "import torch\n",
    "\n",
    "from generators import TopNGenerator\n",
    "from modules import MLPEncoder, MLPDecoder, TransformerEncoder, TransformerDecoder, GeneratorMLP\n",
    "from orbit_dataset import get_datasets\n",
    "\n",
    "from model import AutoEncoderModel\n",
    "from utils import ChamferLoss, HungarianLoss, HungarianLossCustom, ChamferLossWeighted, HungarianLossDimensionMatching\n",
    "\n",
    "from torch.optim import Adam, AdamW\n",
    "\n",
    "from torch.nn import CrossEntropyLoss, MSELoss\n",
    "\n",
    "from torch.optim.lr_scheduler import LinearLR, ReduceLROnPlateau, SequentialLR"
   ]
  },
  {
   "cell_type": "code",
   "execution_count": 2,
   "metadata": {},
   "outputs": [
    {
     "name": "stdout",
     "output_type": "stream",
     "text": [
      "Rips(maxdim=1, thresh=inf, coeff=2, do_cocycles=False, n_perm = None, verbose=True)\n"
     ]
    },
    {
     "data": {
      "application/vnd.jupyter.widget-view+json": {
       "model_id": "ec31a7f7609b47fb8554b8229304fec0",
       "version_major": 2,
       "version_minor": 0
      },
      "text/plain": [
       "  0%|          | 0/5000 [00:00<?, ?it/s]"
      ]
     },
     "metadata": {},
     "output_type": "display_data"
    }
   ],
   "source": [
    "dataset_train, dataset_test, dataloader_train, dataloader_test, n_max = get_datasets(1000, 64, 3500, 1500)"
   ]
  },
  {
   "cell_type": "code",
   "execution_count": 4,
   "metadata": {},
   "outputs": [],
   "source": [
    "device = torch.device('cuda:0' if torch.cuda.is_available() else 'cpu')\n",
    "\n",
    "n_epochs = 300\n",
    "lr = 0.001\n",
    "set_channels = 3\n",
    "\n",
    "criterion = HungarianLoss()\n",
    "\n",
    "#encoder = TransformerEncoder(n_in=set_channels, embed_dim=64, fc_dim=128, num_heads=8, num_layers=5, n_out_enc=16)\n",
    "#generator = TopNGenerator(set_channels=8, cosine_channels=8, max_n=n_max + 10, latent_dim=16)\n",
    "#decoder = GeneratorMLP(n_in=8, n_hidden=128, n_out=3, num_layers=4, generator=generator)\n",
    "\n",
    "encoder = MLPEncoder(n_in=3, n_hidden=64, n_out=16, num_layers=4)\n",
    "decoder = MLPDecoder(n_in=16, n_hidden=64, n_out=n_max * set_channels, num_layers=4, set_channels=set_channels)\n",
    "\n",
    "model = AutoEncoderModel(encoder, decoder).to(device)\n",
    "\n",
    "optimizer = AdamW(model.parameters(), lr=lr, weight_decay=1e-4)\n",
    "scheduler1 = LinearLR(optimizer, start_factor=0.01, total_iters=15)\n",
    "scheduler2 = ReduceLROnPlateau(optimizer, patience=10, min_lr=1e-6)\n",
    "scheduler = SequentialLR(optimizer, schedulers=[scheduler1, scheduler2], milestones=[15])"
   ]
  },
  {
   "cell_type": "code",
   "execution_count": 10,
   "metadata": {
    "scrolled": true
   },
   "outputs": [
    {
     "data": {
      "application/vnd.jupyter.widget-view+json": {
       "model_id": "7baea7ec1d344aef998bd72b7e77448c",
       "version_major": 2,
       "version_minor": 0
      },
      "text/plain": [
       "  0%|          | 0/55 [00:00<?, ?it/s]"
      ]
     },
     "metadata": {},
     "output_type": "display_data"
    },
    {
     "data": {
      "application/vnd.jupyter.widget-view+json": {
       "model_id": "f1b70e34f33d47fa8b604b52981507fc",
       "version_major": 2,
       "version_minor": 0
      },
      "text/plain": [
       "  0%|          | 0/24 [00:00<?, ?it/s]"
      ]
     },
     "metadata": {},
     "output_type": "display_data"
    },
    {
     "ename": "TypeError",
     "evalue": "step() takes 1 positional argument but 2 were given",
     "output_type": "error",
     "traceback": [
      "\u001b[1;31m---------------------------------------------------------------------------\u001b[0m",
      "\u001b[1;31mTypeError\u001b[0m                                 Traceback (most recent call last)",
      "\u001b[1;32m<ipython-input-10-4989cf9fd8ea>\u001b[0m in \u001b[0;36m<module>\u001b[1;34m\u001b[0m\n\u001b[0;32m     34\u001b[0m         \u001b[0mscheduler\u001b[0m\u001b[1;33m.\u001b[0m\u001b[0mstep\u001b[0m\u001b[1;33m(\u001b[0m\u001b[1;33m)\u001b[0m\u001b[1;33m\u001b[0m\u001b[1;33m\u001b[0m\u001b[0m\n\u001b[0;32m     35\u001b[0m     \u001b[1;32melse\u001b[0m\u001b[1;33m:\u001b[0m\u001b[1;33m\u001b[0m\u001b[1;33m\u001b[0m\u001b[0m\n\u001b[1;32m---> 36\u001b[1;33m         \u001b[0mscheduler\u001b[0m\u001b[1;33m.\u001b[0m\u001b[0mstep\u001b[0m\u001b[1;33m(\u001b[0m\u001b[0mloss_test\u001b[0m\u001b[1;33m)\u001b[0m\u001b[1;33m\u001b[0m\u001b[1;33m\u001b[0m\u001b[0m\n\u001b[0m\u001b[0;32m     37\u001b[0m \u001b[1;33m\u001b[0m\u001b[0m\n\u001b[0;32m     38\u001b[0m     \u001b[0mprint\u001b[0m\u001b[1;33m(\u001b[0m\u001b[1;34m\"Epoch: {:3} {:.10f} {:.10f}\"\u001b[0m\u001b[1;33m.\u001b[0m\u001b[0mformat\u001b[0m\u001b[1;33m(\u001b[0m\u001b[0mepoch_idx\u001b[0m\u001b[1;33m,\u001b[0m \u001b[0mloss_train\u001b[0m\u001b[1;33m,\u001b[0m \u001b[0mloss_test\u001b[0m\u001b[1;33m)\u001b[0m\u001b[1;33m)\u001b[0m\u001b[1;33m\u001b[0m\u001b[1;33m\u001b[0m\u001b[0m\n",
      "\u001b[1;31mTypeError\u001b[0m: step() takes 1 positional argument but 2 were given"
     ]
    }
   ],
   "source": [
    "for epoch_idx in range(15, n_epochs):\n",
    "        \n",
    "    # train\n",
    "    model.train()\n",
    "        \n",
    "    loss = 0\n",
    "    for batch in tqdm(dataloader_train):\n",
    "        src = batch[0].to(device)\n",
    "        mask = batch[1].to(device)\n",
    "        tgt = model(src, mask)\n",
    "        loss_batch = criterion(src.to(torch.float), tgt)\n",
    "        loss_batch.backward()\n",
    "        optimizer.step()\n",
    "        optimizer.zero_grad()\n",
    "        loss += loss_batch.detach().cpu()\n",
    "        \n",
    "    loss_train = loss / len(dataloader_train.dataset)\n",
    "        \n",
    "    # test\n",
    "    model.eval()\n",
    "    loss = 0\n",
    "    for batch in tqdm(dataloader_test):\n",
    "        src = batch[0].to(device)\n",
    "        mask = batch[1].to(device)\n",
    "        \n",
    "        with torch.no_grad():\n",
    "            tgt = model(src, mask)\n",
    "            loss_batch = criterion(src.to(torch.float), tgt)\n",
    "            loss += loss_batch\n",
    "            \n",
    "            \n",
    "    loss_test = loss / len(dataloader_test.dataset)\n",
    "    if epoch_idx < 15:\n",
    "        scheduler.step()\n",
    "    else:\n",
    "        scheduler.step(loss_test)\n",
    "        \n",
    "    print(\"Epoch: {:3} {:.10f} {:.10f}\".format(epoch_idx, loss_train, loss_test))"
   ]
  }
 ],
 "metadata": {
  "kernelspec": {
   "display_name": "Python 3",
   "language": "python",
   "name": "python3"
  },
  "language_info": {
   "codemirror_mode": {
    "name": "ipython",
    "version": 3
   },
   "file_extension": ".py",
   "mimetype": "text/x-python",
   "name": "python",
   "nbconvert_exporter": "python",
   "pygments_lexer": "ipython3",
   "version": "3.6.7"
  }
 },
 "nbformat": 4,
 "nbformat_minor": 2
}
