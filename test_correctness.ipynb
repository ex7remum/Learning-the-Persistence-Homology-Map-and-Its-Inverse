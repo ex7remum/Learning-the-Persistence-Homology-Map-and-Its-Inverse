{
 "cells": [
  {
   "cell_type": "code",
   "execution_count": 1,
   "metadata": {},
   "outputs": [],
   "source": [
    "import numpy as np\n",
    "import matplotlib.pyplot as plt\n",
    "from tqdm.notebook import tqdm\n",
    "import torch\n",
    "\n",
    "import generators\n",
    "import modules\n",
    "from orbit_dataset import get_datasets\n",
    "\n",
    "from torch.nn import MSELoss\n",
    "\n",
    "from model import AutoEncoderModel, PDNetOrbit5k\n",
    "from utils import ChamferLoss, HungarianLoss, SlicedWasserstein\n",
    "\n",
    "from torch.optim import Adam, AdamW\n",
    "\n",
    "from torch.nn import MSELoss\n",
    "\n",
    "from model_train import train_epoch_ae, train_epoch_full\n",
    "\n",
    "from calculate_metrics import pd_to_pd_ae_metrics, orbit5k_metrics\n",
    "\n",
    "from torch.optim.lr_scheduler import LinearLR, ReduceLROnPlateau, SequentialLR"
   ]
  },
  {
   "cell_type": "code",
   "execution_count": 2,
   "metadata": {},
   "outputs": [
    {
     "name": "stdout",
     "output_type": "stream",
     "text": [
      "Rips(maxdim=1, thresh=inf, coeff=2, do_cocycles=False, n_perm = None, verbose=True)\n"
     ]
    },
    {
     "data": {
      "application/vnd.jupyter.widget-view+json": {
       "model_id": "97af85fefd934d328b76f55aab425a77",
       "version_major": 2,
       "version_minor": 0
      },
      "text/plain": [
       "  0%|          | 0/1000 [00:00<?, ?it/s]"
      ]
     },
     "metadata": {},
     "output_type": "display_data"
    }
   ],
   "source": [
    "dataset_train, dataset_test, dataloader_train, dataloader_test, n_max = get_datasets(200, 32, 700,300)"
   ]
  },
  {
   "cell_type": "code",
   "execution_count": 3,
   "metadata": {},
   "outputs": [],
   "source": [
    "device = torch.device('cuda:0' if torch.cuda.is_available() else 'cpu')\n",
    "\n",
    "lr = 0.001\n",
    "n_points = 300\n",
    "set_channels = 3\n",
    "warmup_iters = 2\n",
    "n_epochs = 1 + warmup_iters\n",
    "\n",
    "criterion = SlicedWasserstein(n_projections=2)\n",
    "crit_chamfer = ChamferLoss()\n",
    "criterion_hungarian = HungarianLoss()\n",
    "mse = MSELoss(reduction='mean')\n",
    "\n",
    "# model init\n",
    "encoder_pd = modules.MLPEncoder(3, 64, 64, 3)\n",
    "generator = generators.TopNGenerator(set_channels=3, cosine_channels=32, max_n=n_max, latent_dim=64)\n",
    "decoder_pd = modules.TransformerDecoder(n_in=3, latent_dim=64, fc_dim=32, num_heads=2, num_layers=2, n_out=3, \n",
    "                                        generator=generator, n_out_lin=32, n_hidden=32, num_layers_lin = 2, \n",
    "                                        dropout = 0.1, use_conv=True)\n",
    "\n",
    "encoder_data = modules.MLPEncoder(2, 64, 64, 3)\n",
    "decoder_data = modules.MLPDecoder(n_in=64, n_hidden=64, n_out=n_points * 2, num_layers=1, set_channels=2)\n",
    "\n",
    "model = PDNetOrbit5k(encoder_data, decoder_data, encoder_pd, decoder_pd).to(device)\n",
    "\n",
    "optimizer = Adam(model.parameters(), lr=lr)\n",
    "scheduler = torch.optim.lr_scheduler.ReduceLROnPlateau(optimizer, patience=5, min_lr=1e-6)\n",
    "\n",
    "optimizer = AdamW(model.parameters(), lr=lr, weight_decay=1e-4)\n",
    "scheduler1 = LinearLR(optimizer, start_factor=0.0000001, total_iters=warmup_iters)"
   ]
  },
  {
   "cell_type": "code",
   "execution_count": 4,
   "metadata": {},
   "outputs": [
    {
     "data": {
      "text/plain": [
       "<All keys matched successfully>"
      ]
     },
     "execution_count": 4,
     "metadata": {},
     "output_type": "execute_result"
    }
   ],
   "source": [
    "model_classificator = modules.CustomPersformer(n_in=3, embed_dim=64, fc_dim=128, num_heads=4, num_layers=5, n_out_enc=5, dropout=0.0, \n",
    "                           reduction=\"attention\", use_skip=False).to(device)\n",
    "checkpoint = torch.load(\"pretrained_models/persformer_orbit5k_77_test_acc_only_one_dim.pt\", map_location=device)\n",
    "model_classificator.load_state_dict(checkpoint)"
   ]
  },
  {
   "cell_type": "code",
   "execution_count": 5,
   "metadata": {},
   "outputs": [
    {
     "name": "stderr",
     "output_type": "stream",
     "text": [
      "100%|██████████████████████████████████████████████████████████████████████████████████| 22/22 [00:04<00:00,  4.81it/s]\n",
      "100%|██████████████████████████████████████████████████████████████████████████████████| 10/10 [00:00<00:00, 11.56it/s]\n"
     ]
    },
    {
     "name": "stdout",
     "output_type": "stream",
     "text": [
      "0.24666666666666667 0.03777184337377548 0.007398912683129311\n"
     ]
    },
    {
     "name": "stderr",
     "output_type": "stream",
     "text": [
      "100%|██████████████████████████████████████████████████████████████████████████████████| 22/22 [00:04<00:00,  5.26it/s]\n",
      "100%|██████████████████████████████████████████████████████████████████████████████████| 10/10 [00:00<00:00, 12.00it/s]\n"
     ]
    },
    {
     "name": "stdout",
     "output_type": "stream",
     "text": [
      "0.24666666666666667 0.0016885397490113974 0.0025124719832092524\n"
     ]
    },
    {
     "name": "stderr",
     "output_type": "stream",
     "text": [
      "100%|██████████████████████████████████████████████████████████████████████████████████| 22/22 [00:03<00:00,  5.66it/s]\n",
      "100%|██████████████████████████████████████████████████████████████████████████████████| 10/10 [00:00<00:00, 12.12it/s]\n"
     ]
    },
    {
     "name": "stdout",
     "output_type": "stream",
     "text": [
      "0.19666666666666666 0.0008151328074745834 0.0012513446854427457\n"
     ]
    }
   ],
   "source": [
    "loss_train, loss_test = [], []\n",
    "for epoch_idx in range(n_epochs):\n",
    "    train_loss, test_loss = train_epoch_full(model, dataloader_train, dataloader_test, optimizer, \n",
    "                                             criterion, crit_chamfer, progress=False)\n",
    "    loss_train.append(train_loss)\n",
    "    loss_test.append(test_loss)\n",
    "    \n",
    "    test_acc_approx, w2, chamfer = orbit5k_metrics(model, model_classificator, dataloader_train, dataloader_test)\n",
    "    print(test_acc_approx, w2, chamfer)\n",
    "    if epoch_idx < warmup_iters:\n",
    "        scheduler1.step()\n",
    "    else:\n",
    "        if epoch_idx == warmup_iters:\n",
    "            scheduler2 = ReduceLROnPlateau(optimizer, patience=20, min_lr=1e-6)\n",
    "        scheduler2.step(test_loss)"
   ]
  }
 ],
 "metadata": {
  "kernelspec": {
   "display_name": "Python 3",
   "language": "python",
   "name": "python3"
  },
  "language_info": {
   "codemirror_mode": {
    "name": "ipython",
    "version": 3
   },
   "file_extension": ".py",
   "mimetype": "text/x-python",
   "name": "python",
   "nbconvert_exporter": "python",
   "pygments_lexer": "ipython3",
   "version": "3.6.7"
  }
 },
 "nbformat": 4,
 "nbformat_minor": 2
}
